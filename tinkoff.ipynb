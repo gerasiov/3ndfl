{
 "cells": [
  {
   "cell_type": "markdown",
   "id": "corporate-dream",
   "metadata": {},
   "source": [
    "# Генератор отчета по дивидендам зарубежных эмитентов из Tinkoff Broker API\n",
    "\n",
    "## Автор\n",
    "\n",
    "Alexander Gerasiov <a@gerasiov.net>\n",
    "\n",
    "http://github.com/gerasiov/3ndfl\n",
    "\n",
    "## Лицензия\n",
    "\n",
    "GPL версии 2 или более поздняя\n",
    "\n",
    "## Подробнее\n",
    "\n",
    "Читайте в README.md"
   ]
  },
  {
   "cell_type": "markdown",
   "id": "adjusted-english",
   "metadata": {},
   "source": [
    "Установка модулей в venv:"
   ]
  },
  {
   "cell_type": "code",
   "execution_count": null,
   "id": "running-satellite",
   "metadata": {},
   "outputs": [],
   "source": [
    "# Install tinkoff-investments into venv or user's dir\n",
    "\n",
    "#!pip install tinkoff-investments\n",
    "#!pip install --user tinkoff-investments"
   ]
  },
  {
   "cell_type": "code",
   "execution_count": null,
   "id": "sustained-solomon",
   "metadata": {},
   "outputs": [],
   "source": [
    "from tinkoff.invest import Client, GenerateBrokerReportRequest, GetDividendsForeignIssuerReportRequest, RequestError\n",
    "from datetime import datetime\n",
    "from decimal import Decimal\n",
    "import csv\n",
    "import sys\n",
    "from dateutil import rrule\n",
    "from time import sleep\n",
    "from grpc import StatusCode"
   ]
  },
  {
   "cell_type": "markdown",
   "id": "electronic-search",
   "metadata": {},
   "source": [
    "Генерируем readonly токен в недрах веб-интерфейса и вставляем сюда:"
   ]
  },
  {
   "cell_type": "code",
   "execution_count": null,
   "id": "sophisticated-lightweight",
   "metadata": {},
   "outputs": [],
   "source": [
    "TOKEN='t....'"
   ]
  },
  {
   "cell_type": "markdown",
   "id": "measured-documentary",
   "metadata": {},
   "source": [
    "Год, за который генерируем отчет:"
   ]
  },
  {
   "cell_type": "code",
   "execution_count": null,
   "id": "answering-cancellation",
   "metadata": {},
   "outputs": [],
   "source": [
    "YEAR=2021"
   ]
  },
  {
   "cell_type": "code",
   "execution_count": null,
   "id": "static-wrist",
   "metadata": {},
   "outputs": [],
   "source": [
    "account = None\n",
    "with Client(TOKEN) as client:\n",
    "    for a in client.users.get_accounts().accounts:\n",
    "        account = a.id  # нужен дальше в запросе, но устроит любой валидный\n",
    "#         print(a.id, a.name)\n",
    "        break"
   ]
  },
  {
   "cell_type": "code",
   "execution_count": null,
   "id": "backed-february",
   "metadata": {},
   "outputs": [],
   "source": [
    "start_date = datetime(YEAR, 1, 1)\n",
    "end_date = datetime(YEAR+1, 1, 1)\n",
    " \n",
    "intervals = []\n",
    "for dt in rrule.rrule(rrule.MONTHLY, dtstart=start_date, until=end_date):\n",
    "    intervals.append(dt)\n",
    "    \n",
    "REPORT_READY_DELAY = 3"
   ]
  },
  {
   "cell_type": "code",
   "execution_count": null,
   "id": "extra-factor",
   "metadata": {},
   "outputs": [],
   "source": [
    "def ratelimit_retry(func):\n",
    "    def wrap(*args, **kwargs):\n",
    "        while True:\n",
    "            try:\n",
    "#                 print(\"call\", func)\n",
    "#                 print(\"args\", args)\n",
    "#                 print(\"kwargs\", kwargs)\n",
    "#                 print()\n",
    "                return func(*args, **kwargs)\n",
    "            except RequestError as e:\n",
    "                if e.code == StatusCode.RESOURCE_EXHAUSTED:\n",
    "                    print(f\"retry in {e.metadata.ratelimit_reset} seconds...\")\n",
    "                    sleep(e.metadata.ratelimit_reset)\n",
    "                elif e.code == StatusCode.INVALID_ARGUMENT and 'try again later' in e.metadata.message:\n",
    "                    print(f\"report not ready, retry in {REPORT_READY_DELAY} seconds...\")\n",
    "                    sleep(REPORT_READY_DELAY)\n",
    "                else:\n",
    "                    raise\n",
    "    return wrap"
   ]
  },
  {
   "cell_type": "markdown",
   "id": "blessed-fruit",
   "metadata": {},
   "source": [
    "Запрашиваем данные через API, у Tinkoff достаточно низкий rate-limit (5 запросов в минуту), так что процесс занимает до 5 минут. В процессе выводятся сообщения RESOURCE_EXHAUSTED - это нормально."
   ]
  },
  {
   "cell_type": "code",
   "execution_count": null,
   "id": "pretty-geometry",
   "metadata": {},
   "outputs": [],
   "source": [
    "records = []\n",
    "\n",
    "with Client(TOKEN) as client:\n",
    "    for i in range(len(intervals)-1):\n",
    "        print(f\"Requesting report for {intervals[i].isoformat()}\")\n",
    "        result = ratelimit_retry(client.operations.get_dividends_foreign_issuer)(\n",
    "                    generate_div_foreign_issuer_report=GenerateBrokerReportRequest(\n",
    "                        account_id=account,\n",
    "                        from_=intervals[i],\n",
    "                        to=intervals[i+1]\n",
    "                    ))\n",
    "        if result.generate_div_foreign_issuer_report_response is not None:\n",
    "            sleep(REPORT_READY_DELAY)\n",
    "            result = ratelimit_retry(client.operations.get_dividends_foreign_issuer)(\n",
    "                        get_div_foreign_issuer_report=GetDividendsForeignIssuerReportRequest(\n",
    "                            task_id = result.generate_div_foreign_issuer_report_response.task_id,\n",
    "                            page = 0\n",
    "                        ))\n",
    "        if result.div_foreign_issuer_report is not None:\n",
    "            assert(result.div_foreign_issuer_report.pagesCount == 1)  # I believe this should not happen\n",
    "            records += result.div_foreign_issuer_report.dividends_foreign_issuer_report\n",
    "\n",
    "print(\"Done!\")"
   ]
  },
  {
   "cell_type": "code",
   "execution_count": null,
   "id": "searching-import",
   "metadata": {},
   "outputs": [],
   "source": [
    "def quote_to_decimal(q):\n",
    "    NANO_PER_1 = 1000000000\n",
    "    return Decimal(Decimal(q.units) + Decimal(q.nano) / NANO_PER_1).quantize(Decimal('0.01'))\n",
    "\n",
    "def strip_name(text):\n",
    "    for s in (\n",
    "        \"_ORD SHS\",\n",
    "        \" ORD SHS\",\n",
    "        \" REIT\",\n",
    "        \" CL A\",\n",
    "        \"Американская депозитарная расписка на обыкновенные акции \",\n",
    "        \", акции обыкновенные\",\n",
    "        \"Американские депозитарные расписки на акции \",\n",
    "        \" PREFF SHS\",\n",
    "        'ГДР ',\n",
    "    ):\n",
    "        text = text.replace(s, '')\n",
    "        \n",
    "    return text.strip()\n",
    "\n",
    "\n",
    "# write to file according to format, used in nalog.ipynb\n",
    "# fields = ['date', 'country', 'currency', 'amount', 'tax', 'name']\n",
    "def write_to_file(output):\n",
    "    writer = csv.writer(output, delimiter='\\t')\n",
    "\n",
    "    for r in records:\n",
    "        writer.writerow([\n",
    "#             r.record_date.strftime(\"%d.%m.%Y\"),\n",
    "            r.payment_date.strftime(\"%d.%m.%Y\"),\n",
    "            r.issuer_country,\n",
    "            r.currency,\n",
    "#             r.quantity,\n",
    "#             quote_to_decimal(r.dividend),\n",
    "            quote_to_decimal(r.dividend_gross),\n",
    "#             quote_to_decimal(r.tax),  # could be wrong in API, calculate manually below\n",
    "            quote_to_decimal(r.dividend_gross) - quote_to_decimal(r.dividend_amount),\n",
    "#             quote_to_decimal(r.dividend_amount),\n",
    "            strip_name(r.security_name)\n",
    "        ])\n",
    "\n",
    "        \n",
    "write_to_file(sys.stdout)\n",
    "with open('dividends.tsv', 'w') as f:\n",
    "    write_to_file(f)"
   ]
  },
  {
   "cell_type": "code",
   "execution_count": null,
   "id": "english-terrorism",
   "metadata": {},
   "outputs": [],
   "source": []
  }
 ],
 "metadata": {
  "kernelspec": {
   "display_name": "3ndfl-venv",
   "language": "python",
   "name": "3ndfl-venv"
  },
  "language_info": {
   "codemirror_mode": {
    "name": "ipython",
    "version": 3
   },
   "file_extension": ".py",
   "mimetype": "text/x-python",
   "name": "python",
   "nbconvert_exporter": "python",
   "pygments_lexer": "ipython3",
   "version": "3.9.2"
  }
 },
 "nbformat": 4,
 "nbformat_minor": 5
}
